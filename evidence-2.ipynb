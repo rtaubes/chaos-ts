{
 "cells": [
  {
   "cell_type": "markdown",
   "metadata": {},
   "source": [
    "### Analysis of fin data for presense of chaos. Data: BAC for 5 years\n",
    "\n",
    "Literature:\n",
    "- DAVID A. HSIEH, [Chaos and Nonlinear Dynamics: Application to Financial Markets](https://onlinelibrary.wiley.com/doi/abs/10.1111/j.1540-6261.1991.tb04646.x)\n",
    "- Charalampos (Haris) SkokosGeorg A. GottwaldJacques Laskar, [Chaos Detection and Predictability](https://link.springer.com/book/10.1007/978-3-662-48410-4)\n",
    "- Sorin Vlad, Paul Pascu and Nicolae Morariu, [Chaos Models in Economics](https://arxiv.org/pdf/1001.3492.pdf)\n",
    "- Gencer, Murat and Unal, Gazanfer, [Testing Non-Linear Dynamics, Long Memory and Chaotic Behaviour of Energy Commodities](https://mpra.ub.uni-muenchen.de/74115/)\n",
    "- E. Peters, \"Chaos and Order in the Capital Markets: A New View of Cycles, Prices, and Market Volatility\", 2nd Edition, John Wiley & Sons, 1996.\n"
   ]
  },
  {
   "cell_type": "markdown",
   "metadata": {},
   "source": [
    "There are several definitions of 'chaos'. E. Peters in “Chaos and Order in the Capital Markets“ defines chaos as \"an aperiodic long time behavior developed by a deterministic system highly sensitive on initial condition\". "
   ]
  },
  {
   "cell_type": "code",
   "execution_count": 48,
   "metadata": {},
   "outputs": [],
   "source": [
    "import numpy as np\n",
    "import pandas as pd\n",
    "import matplotlib.pyplot as plt\n",
    "from datetime import date, timedelta\n",
    "import statsmodels.tsa.stattools as stat\n",
    "from tqdm import tqdm, trange, tqdm_notebook\n",
    "import nolds  # calculation of maximum Lyapunov LE\n",
    "%matplotlib inline\n",
    "plt.style.use('ggplot')"
   ]
  },
  {
   "cell_type": "markdown",
   "metadata": {},
   "source": [
    "Actual data were downloaded as historical from Yahoo finance for BAC, 5 years up to Jan 11th 2019.\n",
    "They were saved as the CSV file data/BAC-5-years.csv.\n",
    "\n",
    "See head() and tail() below for an actual range"
   ]
  },
  {
   "cell_type": "code",
   "execution_count": 2,
   "metadata": {},
   "outputs": [],
   "source": [
    "SRC_CSV = 'data/BAC-5-years.csv'"
   ]
  },
  {
   "cell_type": "code",
   "execution_count": 3,
   "metadata": {},
   "outputs": [],
   "source": [
    "df = pd.read_csv(SRC_CSV, index_col='Date', parse_dates=['Date'])"
   ]
  },
  {
   "cell_type": "code",
   "execution_count": 67,
   "metadata": {},
   "outputs": [
    {
     "data": {
      "text/html": [
       "<div>\n",
       "<style scoped>\n",
       "    .dataframe tbody tr th:only-of-type {\n",
       "        vertical-align: middle;\n",
       "    }\n",
       "\n",
       "    .dataframe tbody tr th {\n",
       "        vertical-align: top;\n",
       "    }\n",
       "\n",
       "    .dataframe thead th {\n",
       "        text-align: right;\n",
       "    }\n",
       "</style>\n",
       "<table border=\"1\" class=\"dataframe\">\n",
       "  <thead>\n",
       "    <tr style=\"text-align: right;\">\n",
       "      <th></th>\n",
       "      <th>Open</th>\n",
       "      <th>High</th>\n",
       "      <th>Low</th>\n",
       "      <th>Close</th>\n",
       "      <th>Adj Close</th>\n",
       "      <th>Volume</th>\n",
       "    </tr>\n",
       "    <tr>\n",
       "      <th>Date</th>\n",
       "      <th></th>\n",
       "      <th></th>\n",
       "      <th></th>\n",
       "      <th></th>\n",
       "      <th></th>\n",
       "      <th></th>\n",
       "    </tr>\n",
       "  </thead>\n",
       "  <tbody>\n",
       "    <tr>\n",
       "      <th>2014-01-14</th>\n",
       "      <td>16.540001</td>\n",
       "      <td>16.77</td>\n",
       "      <td>16.530001</td>\n",
       "      <td>16.77</td>\n",
       "      <td>15.654903</td>\n",
       "      <td>97786600</td>\n",
       "    </tr>\n",
       "    <tr>\n",
       "      <th>2014-01-15</th>\n",
       "      <td>17.230000</td>\n",
       "      <td>17.42</td>\n",
       "      <td>17.110001</td>\n",
       "      <td>17.15</td>\n",
       "      <td>16.009636</td>\n",
       "      <td>329333100</td>\n",
       "    </tr>\n",
       "  </tbody>\n",
       "</table>\n",
       "</div>"
      ],
      "text/plain": [
       "                 Open   High        Low  Close  Adj Close     Volume\n",
       "Date                                                                \n",
       "2014-01-14  16.540001  16.77  16.530001  16.77  15.654903   97786600\n",
       "2014-01-15  17.230000  17.42  17.110001  17.15  16.009636  329333100"
      ]
     },
     "execution_count": 67,
     "metadata": {},
     "output_type": "execute_result"
    }
   ],
   "source": [
    "df.head(2)"
   ]
  },
  {
   "cell_type": "code",
   "execution_count": 68,
   "metadata": {},
   "outputs": [
    {
     "data": {
      "text/html": [
       "<div>\n",
       "<style scoped>\n",
       "    .dataframe tbody tr th:only-of-type {\n",
       "        vertical-align: middle;\n",
       "    }\n",
       "\n",
       "    .dataframe tbody tr th {\n",
       "        vertical-align: top;\n",
       "    }\n",
       "\n",
       "    .dataframe thead th {\n",
       "        text-align: right;\n",
       "    }\n",
       "</style>\n",
       "<table border=\"1\" class=\"dataframe\">\n",
       "  <thead>\n",
       "    <tr style=\"text-align: right;\">\n",
       "      <th></th>\n",
       "      <th>Open</th>\n",
       "      <th>High</th>\n",
       "      <th>Low</th>\n",
       "      <th>Close</th>\n",
       "      <th>Adj Close</th>\n",
       "      <th>Volume</th>\n",
       "    </tr>\n",
       "    <tr>\n",
       "      <th>Date</th>\n",
       "      <th></th>\n",
       "      <th></th>\n",
       "      <th></th>\n",
       "      <th></th>\n",
       "      <th></th>\n",
       "      <th></th>\n",
       "    </tr>\n",
       "  </thead>\n",
       "  <tbody>\n",
       "    <tr>\n",
       "      <th>2019-01-10</th>\n",
       "      <td>25.559999</td>\n",
       "      <td>25.780001</td>\n",
       "      <td>25.420000</td>\n",
       "      <td>25.730000</td>\n",
       "      <td>25.730000</td>\n",
       "      <td>65235800</td>\n",
       "    </tr>\n",
       "    <tr>\n",
       "      <th>2019-01-11</th>\n",
       "      <td>25.530001</td>\n",
       "      <td>26.040001</td>\n",
       "      <td>25.459999</td>\n",
       "      <td>26.030001</td>\n",
       "      <td>26.030001</td>\n",
       "      <td>63453300</td>\n",
       "    </tr>\n",
       "  </tbody>\n",
       "</table>\n",
       "</div>"
      ],
      "text/plain": [
       "                 Open       High        Low      Close  Adj Close    Volume\n",
       "Date                                                                       \n",
       "2019-01-10  25.559999  25.780001  25.420000  25.730000  25.730000  65235800\n",
       "2019-01-11  25.530001  26.040001  25.459999  26.030001  26.030001  63453300"
      ]
     },
     "execution_count": 68,
     "metadata": {},
     "output_type": "execute_result"
    }
   ],
   "source": [
    "df.tail(2)"
   ]
  },
  {
   "cell_type": "code",
   "execution_count": 5,
   "metadata": {},
   "outputs": [
    {
     "data": {
      "text/html": [
       "<div>\n",
       "<style scoped>\n",
       "    .dataframe tbody tr th:only-of-type {\n",
       "        vertical-align: middle;\n",
       "    }\n",
       "\n",
       "    .dataframe tbody tr th {\n",
       "        vertical-align: top;\n",
       "    }\n",
       "\n",
       "    .dataframe thead th {\n",
       "        text-align: right;\n",
       "    }\n",
       "</style>\n",
       "<table border=\"1\" class=\"dataframe\">\n",
       "  <thead>\n",
       "    <tr style=\"text-align: right;\">\n",
       "      <th></th>\n",
       "      <th>Open</th>\n",
       "      <th>High</th>\n",
       "      <th>Low</th>\n",
       "      <th>Close</th>\n",
       "      <th>Adj Close</th>\n",
       "      <th>Volume</th>\n",
       "    </tr>\n",
       "  </thead>\n",
       "  <tbody>\n",
       "    <tr>\n",
       "      <th>count</th>\n",
       "      <td>1258.000000</td>\n",
       "      <td>1258.000000</td>\n",
       "      <td>1258.000000</td>\n",
       "      <td>1258.000000</td>\n",
       "      <td>1258.000000</td>\n",
       "      <td>1.258000e+03</td>\n",
       "    </tr>\n",
       "    <tr>\n",
       "      <th>mean</th>\n",
       "      <td>20.608816</td>\n",
       "      <td>20.798561</td>\n",
       "      <td>20.404833</td>\n",
       "      <td>20.600374</td>\n",
       "      <td>19.893672</td>\n",
       "      <td>8.467625e+07</td>\n",
       "    </tr>\n",
       "    <tr>\n",
       "      <th>std</th>\n",
       "      <td>5.965929</td>\n",
       "      <td>6.012860</td>\n",
       "      <td>5.912037</td>\n",
       "      <td>5.959894</td>\n",
       "      <td>6.139160</td>\n",
       "      <td>3.905448e+07</td>\n",
       "    </tr>\n",
       "    <tr>\n",
       "      <th>min</th>\n",
       "      <td>11.460000</td>\n",
       "      <td>11.550000</td>\n",
       "      <td>10.990000</td>\n",
       "      <td>11.160000</td>\n",
       "      <td>10.621818</td>\n",
       "      <td>1.427360e+07</td>\n",
       "    </tr>\n",
       "    <tr>\n",
       "      <th>25%</th>\n",
       "      <td>15.780000</td>\n",
       "      <td>15.940000</td>\n",
       "      <td>15.610000</td>\n",
       "      <td>15.790000</td>\n",
       "      <td>14.947576</td>\n",
       "      <td>5.964332e+07</td>\n",
       "    </tr>\n",
       "    <tr>\n",
       "      <th>50%</th>\n",
       "      <td>17.370001</td>\n",
       "      <td>17.490000</td>\n",
       "      <td>17.224999</td>\n",
       "      <td>17.355001</td>\n",
       "      <td>16.379292</td>\n",
       "      <td>7.575720e+07</td>\n",
       "    </tr>\n",
       "    <tr>\n",
       "      <th>75%</th>\n",
       "      <td>25.299999</td>\n",
       "      <td>25.487500</td>\n",
       "      <td>25.090000</td>\n",
       "      <td>25.257500</td>\n",
       "      <td>24.579963</td>\n",
       "      <td>9.938292e+07</td>\n",
       "    </tr>\n",
       "    <tr>\n",
       "      <th>max</th>\n",
       "      <td>32.970001</td>\n",
       "      <td>33.049999</td>\n",
       "      <td>32.639999</td>\n",
       "      <td>32.840000</td>\n",
       "      <td>32.368134</td>\n",
       "      <td>3.750887e+08</td>\n",
       "    </tr>\n",
       "  </tbody>\n",
       "</table>\n",
       "</div>"
      ],
      "text/plain": [
       "              Open         High          Low        Close    Adj Close  \\\n",
       "count  1258.000000  1258.000000  1258.000000  1258.000000  1258.000000   \n",
       "mean     20.608816    20.798561    20.404833    20.600374    19.893672   \n",
       "std       5.965929     6.012860     5.912037     5.959894     6.139160   \n",
       "min      11.460000    11.550000    10.990000    11.160000    10.621818   \n",
       "25%      15.780000    15.940000    15.610000    15.790000    14.947576   \n",
       "50%      17.370001    17.490000    17.224999    17.355001    16.379292   \n",
       "75%      25.299999    25.487500    25.090000    25.257500    24.579963   \n",
       "max      32.970001    33.049999    32.639999    32.840000    32.368134   \n",
       "\n",
       "             Volume  \n",
       "count  1.258000e+03  \n",
       "mean   8.467625e+07  \n",
       "std    3.905448e+07  \n",
       "min    1.427360e+07  \n",
       "25%    5.964332e+07  \n",
       "50%    7.575720e+07  \n",
       "75%    9.938292e+07  \n",
       "max    3.750887e+08  "
      ]
     },
     "execution_count": 5,
     "metadata": {},
     "output_type": "execute_result"
    }
   ],
   "source": [
    "df.describe()"
   ]
  },
  {
   "cell_type": "markdown",
   "metadata": {},
   "source": [
    "**convert Close to 'return' values**"
   ]
  },
  {
   "cell_type": "markdown",
   "metadata": {},
   "source": [
    "'return' value is a profit for a period. 'close' can be converted to 'return' using formula\n",
    "ret = (close[i]-close[i+1])/close[i].\n",
    "\n",
    "See [Wikipedia 'Rate of return'](https://en.wikipedia.org/wiki/Rate_of_return) for the definition of 'return' and why logarithm of 'return' is used instead of 'return'"
   ]
  },
  {
   "cell_type": "code",
   "execution_count": 24,
   "metadata": {},
   "outputs": [
    {
     "data": {
      "text/plain": [
       "Date\n",
       "2014-01-15    0.022407\n",
       "2014-01-16   -0.004090\n",
       "2014-01-17   -0.004107\n",
       "Name: Close, dtype: float64"
      ]
     },
     "execution_count": 24,
     "metadata": {},
     "output_type": "execute_result"
    }
   ],
   "source": [
    "returns = df.Close.pct_change(1)[1:]\n",
    "log_returns = np.log(df.Close) - np.log(df.Close.shift(1))\n",
    "log_returns = log_returns[1:]\n",
    "log_returns.head(3)"
   ]
  },
  {
   "cell_type": "markdown",
   "metadata": {},
   "source": [
    "Graphs of the original sequency and log returns"
   ]
  },
  {
   "cell_type": "code",
   "execution_count": 9,
   "metadata": {},
   "outputs": [
    {
     "data": {
      "text/plain": [
       "<matplotlib.axes._subplots.AxesSubplot at 0x7fc7070f8a20>"
      ]
     },
     "execution_count": 9,
     "metadata": {},
     "output_type": "execute_result"
    },
    {
     "data": {
      "image/png": "[encoded data removed]",
      "text/plain": [
       "<Figure size 1152x576 with 2 Axes>"
      ]
     },
     "metadata": {
      "needs_background": "light"
     },
     "output_type": "display_data"
    }
   ],
   "source": [
    "plt.figure(figsize=(16, 8))\n",
    "ax1 = plt.subplot(221)\n",
    "df.Close.plot(ax=ax1, title='Original sequence')\n",
    "ax2 = plt.subplot(222)\n",
    "log_returns.plot(ax=ax2, title=\"log returns\")"
   ]
  },
  {
   "cell_type": "code",
   "execution_count": 10,
   "metadata": {},
   "outputs": [
    {
     "data": {
      "text/plain": [
       "count    1257.000000\n",
       "mean        0.000350\n",
       "std         0.016025\n",
       "min        -0.076961\n",
       "25%        -0.007745\n",
       "50%         0.000000\n",
       "75%         0.009677\n",
       "max         0.068395\n",
       "Name: Close, dtype: float64"
      ]
     },
     "execution_count": 10,
     "metadata": {},
     "output_type": "execute_result"
    }
   ],
   "source": [
    "log_returns.describe()"
   ]
  },
  {
   "cell_type": "markdown",
   "metadata": {},
   "source": [
    "### Visual estimation of log_returns."
   ]
  },
  {
   "cell_type": "markdown",
   "metadata": {},
   "source": [
    "Estimation of PDF using histogram. It similar to normal."
   ]
  },
  {
   "cell_type": "code",
   "execution_count": 16,
   "metadata": {},
   "outputs": [
    {
     "data": {
      "text/plain": [
       "<matplotlib.axes._subplots.AxesSubplot at 0x7fc704f83c50>"
      ]
     },
     "execution_count": 16,
     "metadata": {},
     "output_type": "execute_result"
    },
    {
     "data": {
      "image/png": "[encoded data removed]",
      "text/plain": [
       "<Figure size 432x288 with 1 Axes>"
      ]
     },
     "metadata": {
      "needs_background": "light"
     },
     "output_type": "display_data"
    }
   ],
   "source": [
    "ax = log_returns.hist(bins=50, density=True)\n",
    "log_returns.plot.kde(ax=ax)"
   ]
  },
  {
   "cell_type": "markdown",
   "metadata": {},
   "source": [
    "Check that there is no linear dependency from previous values"
   ]
  },
  {
   "cell_type": "code",
   "execution_count": 45,
   "metadata": {},
   "outputs": [
    {
     "data": {
      "text/plain": [
       "<matplotlib.axes._subplots.AxesSubplot at 0x7fc704ba4160>"
      ]
     },
     "execution_count": 45,
     "metadata": {},
     "output_type": "execute_result"
    },
    {
     "data": {
      "image/png": "[encoded data removed]",
      "text/plain": [
       "<Figure size 432x288 with 1 Axes>"
      ]
     },
     "metadata": {
      "needs_background": "light"
     },
     "output_type": "display_data"
    }
   ],
   "source": [
    "pd.plotting.lag_plot(log_returns)"
   ]
  },
  {
   "cell_type": "markdown",
   "metadata": {},
   "source": [
    "There is no autocorrelation for different lags."
   ]
  },
  {
   "cell_type": "code",
   "execution_count": 47,
   "metadata": {},
   "outputs": [
    {
     "data": {
      "text/plain": [
       "<matplotlib.axes._subplots.AxesSubplot at 0x7fc7021c93c8>"
      ]
     },
     "execution_count": 47,
     "metadata": {},
     "output_type": "execute_result"
    },
    {
     "data": {
      "image/png": "[encoded data removed]",
      "text/plain": [
       "<Figure size 432x288 with 1 Axes>"
      ]
     },
     "metadata": {
      "needs_background": "light"
     },
     "output_type": "display_data"
    }
   ],
   "source": [
    "pd.plotting.autocorrelation_plot(log_returns)"
   ]
  },
  {
   "cell_type": "markdown",
   "metadata": {},
   "source": [
    "### BDS test \n",
    "\n",
    "BDS tests the null hypothesis of independent and identical distribution (i.i.d)\n",
    "or the purpose of detecting non-random chaotic dynamics."
   ]
  },
  {
   "cell_type": "code",
   "execution_count": 61,
   "metadata": {},
   "outputs": [
    {
     "data": {
      "text/plain": [
       "(array(5.83391072), array(5.41430999e-09))"
      ]
     },
     "execution_count": 61,
     "metadata": {},
     "output_type": "execute_result"
    }
   ],
   "source": [
    "# BDS statistics\n",
    "bds, pval = stat.bds(log_returns)\n",
    "bds, pval"
   ]
  },
  {
   "cell_type": "markdown",
   "metadata": {},
   "source": [
    "BDS is high, pval is less than 0.05. This means that null hypothesis of i.i.d. rejected and the time series has non linear dynamic."
   ]
  },
  {
   "cell_type": "markdown",
   "metadata": {},
   "source": [
    "### Augumented Dickey-Fuller test\n",
    "\n",
    "ADF tests the null hypothesis that time series has unit roots. If the hypothesis rejected, the time-series is stationary."
   ]
  },
  {
   "cell_type": "code",
   "execution_count": 50,
   "metadata": {},
   "outputs": [],
   "source": [
    "def adf(series):\n",
    "    res = sm.adfuller(series)\n",
    "    print(\"ADF statistics: {:.3f}\".format(res[0]))\n",
    "    print(\"p-value: {:.3f}\".format(res[1]))\n",
    "    crit_vals = res[4]\n",
    "    cv = ['{}:{:.3f}'.format(k, v) for k,v in crit_vals.items()]\n",
    "    print(\"critical values: \", cv)"
   ]
  },
  {
   "cell_type": "code",
   "execution_count": 38,
   "metadata": {},
   "outputs": [
    {
     "name": "stdout",
     "output_type": "stream",
     "text": [
      "ADF statistics: -14.429\n",
      "p-value: 0.000\n",
      "critical values:  ['10%:-2.568', '1%:-3.436', '5%:-2.864']\n"
     ]
    }
   ],
   "source": [
    "adf(log_returns)"
   ]
  },
  {
   "cell_type": "markdown",
   "metadata": {},
   "source": [
    "Because ADF statistics is lower than critical values, the null hypothesis is rejected and time series is stationary.\n",
    "- [How to Check if Time Series Data is Stationary with Python](https://machinelearningmastery.com/time-series-data-stationary-python/), \n",
    "- [Augmented Dickey–Fuller test](https://en.wikipedia.org/wiki/Augmented_Dickey%E2%80%93Fuller_test)"
   ]
  },
  {
   "cell_type": "markdown",
   "metadata": {},
   "source": [
    "### Maximal Lyapunov Exponent\n",
    "\n",
    "'nolds' package is used to calculate LE."
   ]
  },
  {
   "cell_type": "code",
   "execution_count": 42,
   "metadata": {},
   "outputs": [
    {
     "data": {
      "text/plain": [
       "(array([ 0.07156784, -0.00065859, -0.07223826, -0.23217343], dtype=float32),\n",
       " 0.07156784)"
      ]
     },
     "execution_count": 42,
     "metadata": {},
     "output_type": "execute_result"
    }
   ],
   "source": [
    "le = nolds.lyap_e(log_returns)\n",
    "le, max(le)"
   ]
  },
  {
   "cell_type": "markdown",
   "metadata": {},
   "source": [
    "The positive value of maximum of LE shows that time-series can be described as a system sensitive to initial conditions."
   ]
  },
  {
   "cell_type": "markdown",
   "metadata": {},
   "source": [
    "### Summary:\n",
    "\n",
    "The system describes the BAC time series is deterministic, aperiodic, and sensitive to initial conditions. This means that the BAC time series has chaotic dynamics."
   ]
  }
 ],
 "metadata": {
  "kernelspec": {
   "display_name": "tensorflow",
   "language": "python",
   "name": "tensorflow"
  },
  "language_info": {
   "codemirror_mode": {
    "name": "ipython",
    "version": 3
   },
   "file_extension": ".py",
   "mimetype": "text/x-python",
   "name": "python",
   "nbconvert_exporter": "python",
   "pygments_lexer": "ipython3",
   "version": "3.5.6"
  },
  "varInspector": {
   "cols": {
    "lenName": 16,
    "lenType": 16,
    "lenVar": 40
   },
   "kernels_config": {
    "python": {
     "delete_cmd_postfix": "",
     "delete_cmd_prefix": "del ",
     "library": "var_list.py",
     "varRefreshCmd": "print(var_dic_list())"
    },
    "r": {
     "delete_cmd_postfix": ") ",
     "delete_cmd_prefix": "rm(",
     "library": "var_list.r",
     "varRefreshCmd": "cat(var_dic_list()) "
    }
   },
   "types_to_exclude": [
    "module",
    "function",
    "builtin_function_or_method",
    "instance",
    "_Feature"
   ],
   "window_display": false
  }
 },
 "nbformat": 4,
 "nbformat_minor": 2
}
